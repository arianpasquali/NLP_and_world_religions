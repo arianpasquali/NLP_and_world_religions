{
 "cells": [
  {
   "cell_type": "markdown",
   "metadata": {
    "_cell_guid": "de7bb7cb-169e-466d-a23c-ba1a119ea3e6",
    "_uuid": "b1fe4102683a3d80dd9ee0271ec3ea24ddd8add9"
   },
   "source": [
    "<center>\n",
    "<h1>Mining the Bible verses</h1>\n",
    "<h2>A practitioner's exploration into what’s possible using text mining on religious corpora.</h2>\n",
    "<h3>Arian Pasquali</h3>\n",
    "<h4>heavily based on J. Monteiro's work (https://github.com/jmmonteiro) </h4>\n",
    "<h3>Porto, Novembro 2018</h3>\n",
    "</center>\n",
    "\n",
    "The bible verses corpora is a well structure dataset that offers interesting opportunities to test different NLP methods. This notebook is an attempt to explore some fun topics. I hope to apply the same techniques using other religious corpora in the future."
   ]
  },
  {
   "cell_type": "markdown",
   "metadata": {
    "_cell_guid": "748e926c-dab9-4bfc-8fac-efa32757d9f5",
    "_uuid": "53bdc027fceb281d001cf05c56e43bc09da1480f"
   },
   "source": [
    "## Load dependencies"
   ]
  },
  {
   "cell_type": "code",
   "execution_count": null,
   "metadata": {},
   "outputs": [],
   "source": [
    "!pip install numpy\n",
    "!pip install pandas\n",
    "!pip install matplotlib\n",
    "!pip install seaborn\n",
    "!pip install sklearn\n",
    "!pip install gensim\n",
    "!pip install nltk"
   ]
  },
  {
   "cell_type": "markdown",
   "metadata": {},
   "source": [
    "## Load packages\n",
    "The first step is to load some of the packages necessary to run the analysis. The last line specifies the size of the plots that will be displayed."
   ]
  },
  {
   "cell_type": "code",
   "execution_count": 1,
   "metadata": {
    "_cell_guid": "d1213ded-b272-49a4-b276-f9bbd413b37d",
    "_execution_state": "idle",
    "_uuid": "19641be327980260b95cfdc0d8ac77b9aee28fa6"
   },
   "outputs": [],
   "source": [
    "import numpy as np\n",
    "import pandas as pd\n",
    "import seaborn as sns\n",
    "import matplotlib\n",
    "import matplotlib.pyplot as plt\n",
    "%matplotlib inline\n",
    "\n",
    "sns.set_style('whitegrid')\n",
    "plt.rcParams['figure.figsize'] = (14,10)"
   ]
  },
  {
   "cell_type": "code",
   "execution_count": 15,
   "metadata": {},
   "outputs": [],
   "source": [
    "#ignore some warnings\n",
    "import warnings; warnings.simplefilter('ignore')"
   ]
  },
  {
   "cell_type": "markdown",
   "metadata": {
    "_cell_guid": "86005f09-c5d7-46a6-a4be-de9f90d53055",
    "_uuid": "03a62b7746691f61d8f6a36341fafd34c0c4a4d1"
   },
   "source": [
    "## Load data"
   ]
  },
  {
   "cell_type": "markdown",
   "metadata": {
    "_cell_guid": "68941c55-8a62-43b3-8215-1ad75ca6a1a0",
    "_uuid": "60ce421db5d7ac5b15c412fb3fa572188bfc01ff"
   },
   "source": [
    "Let's start by loading the data and checking how many samples we have."
   ]
  },
  {
   "cell_type": "code",
   "execution_count": 2,
   "metadata": {
    "_cell_guid": "e7ae81ee-316e-4cc6-a425-0f091faee2c6",
    "_execution_state": "idle",
    "_uuid": "e2a4c9b43e76468b4c09af333cafa515ca84a1b9"
   },
   "outputs": [
    {
     "data": {
      "text/plain": [
       "(31102, 5)"
      ]
     },
     "execution_count": 2,
     "metadata": {},
     "output_type": "execute_result"
    }
   ],
   "source": [
    "bible = pd.read_csv('./corpus/bible_data_set.csv')\n",
    "bible.shape"
   ]
  },
  {
   "cell_type": "markdown",
   "metadata": {
    "_cell_guid": "96ad4d31-2e2c-4e07-ad0b-2a930cb650a5",
    "_uuid": "fbbfdfdda2580e60fd38286e41f65fcc004e0f29"
   },
   "source": [
    "Next, we'll encode some extra information about the verses, namely, which testament and book they belong to. A quick google search tells us which books are contained in the KJV."
   ]
  },
  {
   "cell_type": "code",
   "execution_count": 3,
   "metadata": {
    "_cell_guid": "48187a70-e883-4191-aad1-1c560f37fd3a",
    "_execution_state": "idle",
    "_uuid": "22742772c0380f44ca6cc0225257e3376f53ecc3"
   },
   "outputs": [
    {
     "data": {
      "text/html": [
       "<div>\n",
       "<style scoped>\n",
       "    .dataframe tbody tr th:only-of-type {\n",
       "        vertical-align: middle;\n",
       "    }\n",
       "\n",
       "    .dataframe tbody tr th {\n",
       "        vertical-align: top;\n",
       "    }\n",
       "\n",
       "    .dataframe thead th {\n",
       "        text-align: right;\n",
       "    }\n",
       "</style>\n",
       "<table border=\"1\" class=\"dataframe\">\n",
       "  <thead>\n",
       "    <tr style=\"text-align: right;\">\n",
       "      <th></th>\n",
       "      <th>citation</th>\n",
       "      <th>book</th>\n",
       "      <th>chapter</th>\n",
       "      <th>verse</th>\n",
       "      <th>text</th>\n",
       "      <th>book_code</th>\n",
       "      <th>testament</th>\n",
       "      <th>testament_code</th>\n",
       "    </tr>\n",
       "  </thead>\n",
       "  <tbody>\n",
       "    <tr>\n",
       "      <th>0</th>\n",
       "      <td>Genesis 1:1</td>\n",
       "      <td>Genesis</td>\n",
       "      <td>1</td>\n",
       "      <td>1</td>\n",
       "      <td>In the beginning God created the heaven and th...</td>\n",
       "      <td>1</td>\n",
       "      <td>Old Testament</td>\n",
       "      <td>0</td>\n",
       "    </tr>\n",
       "    <tr>\n",
       "      <th>1</th>\n",
       "      <td>Genesis 1:2</td>\n",
       "      <td>Genesis</td>\n",
       "      <td>1</td>\n",
       "      <td>2</td>\n",
       "      <td>And the earth was without form, and void; and ...</td>\n",
       "      <td>1</td>\n",
       "      <td>Old Testament</td>\n",
       "      <td>0</td>\n",
       "    </tr>\n",
       "    <tr>\n",
       "      <th>2</th>\n",
       "      <td>Genesis 1:3</td>\n",
       "      <td>Genesis</td>\n",
       "      <td>1</td>\n",
       "      <td>3</td>\n",
       "      <td>And God said, Let there be light: and there wa...</td>\n",
       "      <td>1</td>\n",
       "      <td>Old Testament</td>\n",
       "      <td>0</td>\n",
       "    </tr>\n",
       "    <tr>\n",
       "      <th>3</th>\n",
       "      <td>Genesis 1:4</td>\n",
       "      <td>Genesis</td>\n",
       "      <td>1</td>\n",
       "      <td>4</td>\n",
       "      <td>And God saw the light, that it was good: and G...</td>\n",
       "      <td>1</td>\n",
       "      <td>Old Testament</td>\n",
       "      <td>0</td>\n",
       "    </tr>\n",
       "    <tr>\n",
       "      <th>4</th>\n",
       "      <td>Genesis 1:5</td>\n",
       "      <td>Genesis</td>\n",
       "      <td>1</td>\n",
       "      <td>5</td>\n",
       "      <td>And God called the light Day, and the darkness...</td>\n",
       "      <td>1</td>\n",
       "      <td>Old Testament</td>\n",
       "      <td>0</td>\n",
       "    </tr>\n",
       "  </tbody>\n",
       "</table>\n",
       "</div>"
      ],
      "text/plain": [
       "      citation     book  chapter  verse  \\\n",
       "0  Genesis 1:1  Genesis        1      1   \n",
       "1  Genesis 1:2  Genesis        1      2   \n",
       "2  Genesis 1:3  Genesis        1      3   \n",
       "3  Genesis 1:4  Genesis        1      4   \n",
       "4  Genesis 1:5  Genesis        1      5   \n",
       "\n",
       "                                                text book_code      testament  \\\n",
       "0  In the beginning God created the heaven and th...         1  Old Testament   \n",
       "1  And the earth was without form, and void; and ...         1  Old Testament   \n",
       "2  And God said, Let there be light: and there wa...         1  Old Testament   \n",
       "3  And God saw the light, that it was good: and G...         1  Old Testament   \n",
       "4  And God called the light Day, and the darkness...         1  Old Testament   \n",
       "\n",
       "  testament_code  \n",
       "0              0  \n",
       "1              0  \n",
       "2              0  \n",
       "3              0  \n",
       "4              0  "
      ]
     },
     "execution_count": 3,
     "metadata": {},
     "output_type": "execute_result"
    }
   ],
   "source": [
    "# Books in the Old Testament (OT) and New Testament (NT)\n",
    "OT_books = ['Genesis', 'Exodus', 'Leviticus', 'Numbers', 'Deuteronomy', 'Joshua', 'Judges',\n",
    "            'Ruth', '1 Samuel', '2 Samuel', '1 Kings', '2 Kings', '1 Chronicles', '2 Chronicles',\n",
    "            'Ezra', 'Nehemiah', 'Esther', 'Job', 'Psalms', 'Proverbs', 'Ecclesiastes',\n",
    "            'Song of Solomon', 'Isaiah', 'Jeremiah', 'Lamentations', 'Ezekiel', 'Daniel',\n",
    "            'Hosea', 'Joel', 'Amos', 'Obadiah', 'Jonah', 'Micah', 'Nahum', 'Habakkuk',\n",
    "            'Zephaniah', 'Haggai',    'Zechariah',    'Malachi']\n",
    "\n",
    "NT_books = ['Matthew', 'Mark', 'Luke', 'John', 'Acts', 'Romans', '1 Corinthians',\n",
    "            '2 Corinthians', 'Galatians', 'Ephesians', 'Philippians', 'Colossians',\n",
    "            '1 Thessalonians', '2 Thessalonians', '1 Timothy', '2 Timothy', 'Titus', 'Philemon',\n",
    "            'Hebrews', 'James', '1 Peter', '2 Peter', '1 John', '2 John', '3 John', 'Jude',\n",
    "            'Revelation']\n",
    "\n",
    "# New variables with the books and testaments as categories\n",
    "books = pd.unique(bible.book)\n",
    "book_codes = np.arange(1,len(books)+1)\n",
    "book_codes = np.concatenate([books.reshape((-1,1)),book_codes.reshape((-1,1))], axis=1)\n",
    "\n",
    "bible['book_code'] = np.nan\n",
    "bible['testament'] = ''\n",
    "bible['testament_code'] = np.nan\n",
    "for i in range(0,bible.shape[0]):\n",
    "    ind = bible.at[i,'book'] == book_codes[:,0]\n",
    "    bible.at[i,'book_code'] = book_codes[ind,1]\n",
    "    \n",
    "    if bible.at[i,'book'] in OT_books:\n",
    "        bible.at[i,'testament'] = 'Old Testament'\n",
    "        bible.at[i,'testament_code'] = 0\n",
    "    elif bible.at[i,'book'] in NT_books:\n",
    "        bible.at[i,'testament'] = 'New Testament'\n",
    "        bible.at[i,'testament_code'] = 1\n",
    "    else:\n",
    "        raise Exception('Book not found: ' + bible.at[i,'book'])\n",
    "\n",
    "bible.book_code = bible.book_code.astype(int)\n",
    "bible.book_code = pd.Categorical(bible.book_code)\n",
    "bible.testament_code = bible.testament_code.astype(int)\n",
    "bible.testament_code = pd.Categorical(bible.testament_code)\n",
    "    \n",
    "bible.head()"
   ]
  },
  {
   "cell_type": "markdown",
   "metadata": {
    "_cell_guid": "04cea696-3800-4b5f-b6b1-19e87018ce5f",
    "_uuid": "963f3a2f9513ef2f142a4a4da643fff41ccf3765"
   },
   "source": [
    "Before starting the analysis, I'll permute the data. This will break the order of the verses, preventing cases in which a structured chunk of the data (e.g. a chapter) is contained completely on the train set or on the test set. In other words, we want to have the chapters spread around the cross-validation folds.\n",
    "\n",
    "In order to avoid problems with the cross-validation later on, I'll reset the index as well."
   ]
  },
  {
   "cell_type": "code",
   "execution_count": 4,
   "metadata": {
    "_cell_guid": "ae6eb107-df4c-4221-9684-8a7d103d51d5",
    "_execution_state": "idle",
    "_uuid": "b408973960bf2430072add796e4151253ea2f17d"
   },
   "outputs": [
    {
     "data": {
      "text/html": [
       "<div>\n",
       "<style scoped>\n",
       "    .dataframe tbody tr th:only-of-type {\n",
       "        vertical-align: middle;\n",
       "    }\n",
       "\n",
       "    .dataframe tbody tr th {\n",
       "        vertical-align: top;\n",
       "    }\n",
       "\n",
       "    .dataframe thead th {\n",
       "        text-align: right;\n",
       "    }\n",
       "</style>\n",
       "<table border=\"1\" class=\"dataframe\">\n",
       "  <thead>\n",
       "    <tr style=\"text-align: right;\">\n",
       "      <th></th>\n",
       "      <th>citation</th>\n",
       "      <th>book</th>\n",
       "      <th>chapter</th>\n",
       "      <th>verse</th>\n",
       "      <th>text</th>\n",
       "      <th>book_code</th>\n",
       "      <th>testament</th>\n",
       "      <th>testament_code</th>\n",
       "    </tr>\n",
       "  </thead>\n",
       "  <tbody>\n",
       "    <tr>\n",
       "      <th>0</th>\n",
       "      <td>Psalms 12:2</td>\n",
       "      <td>Psalms</td>\n",
       "      <td>12</td>\n",
       "      <td>2</td>\n",
       "      <td>They speak vanity every one with his neighbour...</td>\n",
       "      <td>19</td>\n",
       "      <td>Old Testament</td>\n",
       "      <td>0</td>\n",
       "    </tr>\n",
       "    <tr>\n",
       "      <th>1</th>\n",
       "      <td>Ruth 2:7</td>\n",
       "      <td>Ruth</td>\n",
       "      <td>2</td>\n",
       "      <td>7</td>\n",
       "      <td>And she said, I pray you, let me glean and gat...</td>\n",
       "      <td>8</td>\n",
       "      <td>Old Testament</td>\n",
       "      <td>0</td>\n",
       "    </tr>\n",
       "    <tr>\n",
       "      <th>2</th>\n",
       "      <td>Ezekiel 33:10</td>\n",
       "      <td>Ezekiel</td>\n",
       "      <td>33</td>\n",
       "      <td>10</td>\n",
       "      <td>Therefore, O thou son of man, speak unto the h...</td>\n",
       "      <td>26</td>\n",
       "      <td>Old Testament</td>\n",
       "      <td>0</td>\n",
       "    </tr>\n",
       "    <tr>\n",
       "      <th>3</th>\n",
       "      <td>Psalms 139:1</td>\n",
       "      <td>Psalms</td>\n",
       "      <td>139</td>\n",
       "      <td>1</td>\n",
       "      <td>O lord, thou hast searched me, and known me. \\n</td>\n",
       "      <td>19</td>\n",
       "      <td>Old Testament</td>\n",
       "      <td>0</td>\n",
       "    </tr>\n",
       "    <tr>\n",
       "      <th>4</th>\n",
       "      <td>Judges 9:34</td>\n",
       "      <td>Judges</td>\n",
       "      <td>9</td>\n",
       "      <td>34</td>\n",
       "      <td>And Abimelech rose up, and all the people that...</td>\n",
       "      <td>7</td>\n",
       "      <td>Old Testament</td>\n",
       "      <td>0</td>\n",
       "    </tr>\n",
       "  </tbody>\n",
       "</table>\n",
       "</div>"
      ],
      "text/plain": [
       "        citation     book  chapter  verse  \\\n",
       "0    Psalms 12:2   Psalms       12      2   \n",
       "1       Ruth 2:7     Ruth        2      7   \n",
       "2  Ezekiel 33:10  Ezekiel       33     10   \n",
       "3   Psalms 139:1   Psalms      139      1   \n",
       "4    Judges 9:34   Judges        9     34   \n",
       "\n",
       "                                                text book_code      testament  \\\n",
       "0  They speak vanity every one with his neighbour...        19  Old Testament   \n",
       "1  And she said, I pray you, let me glean and gat...         8  Old Testament   \n",
       "2  Therefore, O thou son of man, speak unto the h...        26  Old Testament   \n",
       "3    O lord, thou hast searched me, and known me. \\n        19  Old Testament   \n",
       "4  And Abimelech rose up, and all the people that...         7  Old Testament   \n",
       "\n",
       "  testament_code  \n",
       "0              0  \n",
       "1              0  \n",
       "2              0  \n",
       "3              0  \n",
       "4              0  "
      ]
     },
     "execution_count": 4,
     "metadata": {},
     "output_type": "execute_result"
    }
   ],
   "source": [
    "bible = bible.sample(frac=1, random_state=7).reset_index(drop=True)\n",
    "bible.head()"
   ]
  },
  {
   "cell_type": "markdown",
   "metadata": {
    "_cell_guid": "7ccf256b-cf95-4001-9323-d513fb3f11dd",
    "_uuid": "659dea9a28e749ae62d50a47f869bd05bf45d053"
   },
   "source": [
    "Looking good so far. Time for some machine learning."
   ]
  },
  {
   "cell_type": "markdown",
   "metadata": {
    "_cell_guid": "41309c0c-e4e1-459f-935b-1f6215470ca7",
    "_uuid": "87db2ec5721f56a16eb7dca6211914f83da3f36d"
   },
   "source": [
    "## Old Testament vs. New Testament\n",
    "\n",
    "The first task will be straightforward: classify which verses belong to the Old Testament (OT), and which verses belong to the New Testament (NT).\n",
    "\n",
    "The first thing that one notices is that the OT is larger than the NT."
   ]
  },
  {
   "cell_type": "code",
   "execution_count": 5,
   "metadata": {
    "_cell_guid": "47778847-ea17-470b-a6df-b2b99ce08e2a",
    "_execution_state": "idle",
    "_uuid": "1175884ab23dd2396b960f4de2c468402e897a47"
   },
   "outputs": [
    {
     "name": "stdout",
     "output_type": "stream",
     "text": [
      "# verses in the OT: 23145\n",
      "# verses in the NT: 7957\n"
     ]
    }
   ],
   "source": [
    "print('# verses in the OT: ' + str(np.sum(bible.testament_code==0)))\n",
    "print('# verses in the NT: ' + str(np.sum(bible.testament_code==1)))"
   ]
  },
  {
   "cell_type": "markdown",
   "metadata": {
    "_cell_guid": "1ddcc8f8-60ac-4dcb-9a83-ded38cea1c98",
    "_uuid": "7b1cc98f8351b54c91feb7a68c63a0e57c0174ec"
   },
   "source": [
    "This means that we should probably do 2 things:\n",
    "\n",
    "1. Use a classifier which takes the class imbalance into account. In this case, we will use a [Support Vector Machine (SVM)](https://en.wikipedia.org/wiki/Support_vector_machine) classifier with class weights to account for the class imbalance.\n",
    "\n",
    "2. Use the *balanced accuracy* metric, instead of the overall accuracy. This simply corresponds to the average of the class accuracies.\n",
    "\n",
    "The reason for the second point is easy to explain.\n",
    "\n",
    "Imagine that you had a dataset comprised of 90% of samples in class A, and 10% in class B. If a machine learning model classified every sample as class A, the overall accuracy would be 90%. However, if you look at the balanced accuracy, it would be (100%+0%)/2 = 50%. The first metric might lead someone (at first glance) to think that the method was working well, whereas the second metric clearly indicates that the method does not generalise well.\n",
    "\n",
    "We'll also use a StratifiedKFold cross-validation strategy, in order to preserve the ratio of the samples per class across the folds."
   ]
  },
  {
   "cell_type": "markdown",
   "metadata": {},
   "source": [
    "### Defining SVM model setup and weighted vector space model with TF.IDF "
   ]
  },
  {
   "cell_type": "code",
   "execution_count": 6,
   "metadata": {},
   "outputs": [],
   "source": [
    "X = bible.text\n",
    "y = np.asarray(bible.testament_code)"
   ]
  },
  {
   "cell_type": "code",
   "execution_count": 7,
   "metadata": {},
   "outputs": [],
   "source": [
    "from sklearn.metrics import accuracy_score\n",
    "from sklearn.svm import LinearSVC\n",
    "\n",
    "clf = LinearSVC(class_weight='balanced', loss='squared_hinge')\n",
    "\n",
    "from sklearn.feature_extraction.text import CountVectorizer\n",
    "from sklearn.feature_extraction.text import TfidfVectorizer\n",
    "\n",
    "# using count vectorized\n",
    "# vect = CountVectorizer(ngram_range=(1,3),\n",
    "\n",
    "#                         token_pattern='(?u)(?:\\\\b|(?<=_))[^\\W_][^\\W_-]+(?:\\\\b|(?=[_-]))')\n",
    "\n",
    "# using TF.IDF\n",
    "vect = TfidfVectorizer(\n",
    "    sublinear_tf=True,\n",
    "    ngram_range=(1,3),\n",
    "    token_pattern='(?u)(?:\\\\b|(?<=_))[^\\W_][^\\W_-]+(?:\\\\b|(?=[_-]))'\n",
    ")"
   ]
  },
  {
   "cell_type": "code",
   "execution_count": 8,
   "metadata": {
    "_cell_guid": "5e44da87-e867-44b2-857f-293134d52908",
    "_execution_state": "idle",
    "_uuid": "12f1382ddf3f277d5d73fff6cbf8295f2a2fe0bb"
   },
   "outputs": [],
   "source": [
    "n_cv_folds = 10\n",
    "\n",
    "# Use the stratified KFold strategy, in order to preserve the proportion of each class in all the folds\n",
    "from sklearn.model_selection import StratifiedKFold\n",
    "cv = StratifiedKFold(n_splits=n_cv_folds)\n",
    "\n",
    "acc = []\n",
    "class_acc = []\n",
    "\n",
    "#folds = []\n",
    "for train_index, test_index in cv.split(X, y):\n",
    "    X_train, X_test = X[train_index], X[test_index]\n",
    "    y_train, y_test = y[train_index], y[test_index]\n",
    "    \n",
    "\n",
    "    \n",
    "    X_train = vect.fit_transform(X_train)\n",
    "    X_test = vect.transform(X_test)\n",
    "    \n",
    "    clf.fit(X_train,y_train)\n",
    "    y_pred = clf.predict(X_test)\n",
    "    \n",
    "    # General accuracy\n",
    "    acc.append(accuracy_score(y_test,y_pred))\n",
    "    \n",
    "    # Class accuracy\n",
    "    ind = y_test == 0\n",
    "    OT_acc = np.sum(y_test[ind] == y_pred[ind])\n",
    "    OT_acc = OT_acc/np.sum(ind)\n",
    "    \n",
    "    ind = y_test == 1\n",
    "    NT_acc = np.sum(y_test[ind] == y_pred[ind])\n",
    "    NT_acc = NT_acc/np.sum(ind)\n",
    "    \n",
    "    #folds.append({\"y_pred\":y_pred,\"y_test\":y_test})\n",
    "        \n",
    "    class_acc.append([OT_acc, NT_acc])"
   ]
  },
  {
   "cell_type": "markdown",
   "metadata": {
    "_cell_guid": "08ff3dd1-f6fc-4a8d-bc9a-20882261c9a6",
    "_uuid": "468527b6b17ae8cf47645f3103d518e384fb8c76"
   },
   "source": [
    "Let's look at the accuracies."
   ]
  },
  {
   "cell_type": "code",
   "execution_count": 9,
   "metadata": {
    "_cell_guid": "c12e539e-05c0-4938-aff8-6c8930fcb070",
    "_execution_state": "idle",
    "_uuid": "4f34bf26678d910c9ff0eedc4adb60dca8d6d28a"
   },
   "outputs": [
    {
     "name": "stdout",
     "output_type": "stream",
     "text": [
      "Accuracy: 0.952221840288059\n",
      "Balanced Accuracy: 0.9314457203912717\n"
     ]
    }
   ],
   "source": [
    "class_acc = np.array(class_acc)\n",
    "print('Accuracy: ' + str(np.mean(acc)))\n",
    "print('Balanced Accuracy: ' + str(np.mean(class_acc[:])))"
   ]
  },
  {
   "cell_type": "code",
   "execution_count": 10,
   "metadata": {},
   "outputs": [
    {
     "name": "stdout",
     "output_type": "stream",
     "text": [
      "Confusion matrix, without normalization\n",
      "[[2249   65]\n",
      " [  95  700]]\n",
      "Normalized confusion matrix\n",
      "[[0.97 0.03]\n",
      " [0.12 0.88]]\n"
     ]
    },
    {
     "data": {
      "image/png": "[encoded data removed]",
      "text/plain": [
       "<Figure size 432x288 with 2 Axes>"
      ]
     },
     "metadata": {
      "needs_background": "light"
     },
     "output_type": "display_data"
    },
    {
     "data": {
      "image/png": "[encoded data removed]",
      "text/plain": [
       "<Figure size 432x288 with 2 Axes>"
      ]
     },
     "metadata": {
      "needs_background": "light"
     },
     "output_type": "display_data"
    }
   ],
   "source": [
    "from sklearn.metrics import confusion_matrix\n",
    "\n",
    "def plot_confusion_matrix(cm, classes,\n",
    "                          normalize=False,\n",
    "                          title='Confusion matrix',\n",
    "                          cmap=plt.cm.Blues):\n",
    "    \"\"\"\n",
    "    This function prints and plots the confusion matrix.\n",
    "    Normalization can be applied by setting `normalize=True`.\n",
    "    \"\"\"\n",
    "    if normalize:\n",
    "        cm = cm.astype('float') / cm.sum(axis=1)[:, np.newaxis]\n",
    "        print(\"Normalized confusion matrix\")\n",
    "    else:\n",
    "        print('Confusion matrix, without normalization')\n",
    "\n",
    "    print(cm)\n",
    "\n",
    "    plt.imshow(cm, interpolation='nearest', cmap=cmap)\n",
    "    plt.title(title)\n",
    "    plt.colorbar()\n",
    "    tick_marks = np.arange(len(classes))\n",
    "    plt.xticks(tick_marks, classes, rotation=45)\n",
    "    plt.yticks(tick_marks, classes)\n",
    "\n",
    "    fmt = '.2f' if normalize else 'd'\n",
    "    thresh = cm.max() / 2.\n",
    "    \n",
    "    plt.tight_layout()\n",
    "    plt.ylabel('True label')\n",
    "    plt.xlabel('Predicted label')\n",
    "\n",
    "# Compute confusion matrix\n",
    "cnf_matrix = confusion_matrix(y_test, y_pred)\n",
    "np.set_printoptions(precision=2)\n",
    "\n",
    "class_names = [\"OLD\",\"NEW\"]\n",
    "\n",
    "# Plot non-normalized confusion matrix\n",
    "plt.figure()\n",
    "plot_confusion_matrix(cnf_matrix, classes=class_names)\n",
    "\n",
    "# Plot normalized confusion matrix\n",
    "plt.figure()\n",
    "plot_confusion_matrix(cnf_matrix, classes=class_names, normalize=True,\n",
    "                       title='Normalized confusion matrix')\n",
    "\n",
    "plt.show()\n"
   ]
  },
  {
   "cell_type": "markdown",
   "metadata": {
    "_cell_guid": "d51a5a91-2f0d-42df-85e9-7e503a573005",
    "_uuid": "1b5ffd7bf04ad2ca1a6eb9145925f7b4daa23222"
   },
   "source": [
    "They are both quite similar, maybe due to the fact that SVM is already accounting for the class imbalance. If you omit the ``class_weight='balanced'`` option, the difference between the two will increase."
   ]
  },
  {
   "cell_type": "markdown",
   "metadata": {},
   "source": [
    "## Word embeddings\n",
    "Explore word embeddings comparing OLD Testament and NEW Testament."
   ]
  },
  {
   "cell_type": "code",
   "execution_count": 11,
   "metadata": {},
   "outputs": [
    {
     "name": "stdout",
     "output_type": "stream",
     "text": [
      "(23145, 8)\n",
      "(7957, 8)\n"
     ]
    }
   ],
   "source": [
    "import gensim # for Word2Vec\n",
    "from gensim.models import Word2Vec\n",
    "import nltk\n",
    "from nltk.tokenize import word_tokenize\n",
    "\n",
    "\n",
    "first_testament = bible[bible.testament_code==0]\n",
    "second_testament = bible[bible.testament_code==1]\n",
    "\n",
    "print(first_testament.shape)\n",
    "print(second_testament.shape)\n",
    "\n",
    "first_testament_verses = [word_tokenize(verse.lower()) for verse in first_testament.text]\n",
    "second_testament_verses = [word_tokenize(verse.lower()) for verse in second_testament.text]"
   ]
  },
  {
   "cell_type": "code",
   "execution_count": 12,
   "metadata": {},
   "outputs": [
    {
     "name": "stdout",
     "output_type": "stream",
     "text": [
      "CPU times: user 6.45 s, sys: 168 ms, total: 6.61 s\n",
      "Wall time: 3.54 s\n",
      "CPU times: user 1.59 s, sys: 5 ms, total: 1.59 s\n",
      "Wall time: 696 ms\n"
     ]
    }
   ],
   "source": [
    "%time first_word2vec_model = gensim.models.Word2Vec(first_testament_verses, size=100, window=5, min_count=5)\n",
    "%time second_word2vec_model = gensim.models.Word2Vec(second_testament_verses, size=100, window=5, min_count=5)"
   ]
  },
  {
   "cell_type": "code",
   "execution_count": 16,
   "metadata": {},
   "outputs": [
    {
     "name": "stdout",
     "output_type": "stream",
     "text": [
      "Word2Vec(vocab=4467, size=100, alpha=0.025)\n"
     ]
    },
    {
     "data": {
      "text/plain": [
       "[('hosts', 0.7884540557861328),\n",
       " ('lord', 0.7709070444107056),\n",
       " ('thus', 0.6982283592224121),\n",
       " ('voice', 0.6952710747718811),\n",
       " ('word', 0.691666305065155),\n",
       " ('covenant', 0.6781097650527954),\n",
       " ('glory', 0.6755709052085876),\n",
       " ('fear', 0.6697150468826294),\n",
       " ('name', 0.6507924199104309),\n",
       " ('redeemer', 0.6338857412338257)]"
      ]
     },
     "execution_count": 16,
     "metadata": {},
     "output_type": "execute_result"
    }
   ],
   "source": [
    "print(first_word2vec_model)\n",
    "\n",
    "first_word2vec_model.most_similar(\"god\", topn=10)"
   ]
  },
  {
   "cell_type": "code",
   "execution_count": 17,
   "metadata": {},
   "outputs": [
    {
     "name": "stdout",
     "output_type": "stream",
     "text": [
      "Word2Vec(vocab=2229, size=100, alpha=0.025)\n"
     ]
    },
    {
     "data": {
      "text/plain": [
       "[('faith', 0.9534375667572021),\n",
       " ('our', 0.952335774898529),\n",
       " ('grace', 0.9519884586334229),\n",
       " ('name', 0.9290701746940613),\n",
       " ('gospel', 0.9246401786804199),\n",
       " ('spirit', 0.9238529205322266),\n",
       " ('glory', 0.9231889843940735),\n",
       " ('life', 0.9063910245895386),\n",
       " ('law', 0.9060491323471069),\n",
       " ('world', 0.898612380027771)]"
      ]
     },
     "execution_count": 17,
     "metadata": {},
     "output_type": "execute_result"
    }
   ],
   "source": [
    "print(second_word2vec_model)\n",
    "\n",
    "second_word2vec_model.most_similar(\"god\", topn=10)"
   ]
  },
  {
   "cell_type": "markdown",
   "metadata": {
    "_cell_guid": "dc4d4143-927a-487f-97b5-7cacf28f5e4a",
    "_uuid": "10145c94c9c4a896a5b797c12920d45e12e30f0b"
   },
   "source": [
    "# Conclusion\n",
    "\n",
    "Interesting enough, comparing the FIRST and the NEW Testament the most similar words related to GOD we can see that **Fear** appears in the first, while love-realted works**faith** "
   ]
  },
  {
   "cell_type": "code",
   "execution_count": null,
   "metadata": {},
   "outputs": [],
   "source": []
  }
 ],
 "metadata": {
  "anaconda-cloud": {},
  "kernelspec": {
   "display_name": "Python 3",
   "language": "python",
   "name": "python3"
  },
  "language_info": {
   "codemirror_mode": {
    "name": "ipython",
    "version": 3
   },
   "file_extension": ".py",
   "mimetype": "text/x-python",
   "name": "python",
   "nbconvert_exporter": "python",
   "pygments_lexer": "ipython3",
   "version": "3.6.6"
  }
 },
 "nbformat": 4,
 "nbformat_minor": 2
}
