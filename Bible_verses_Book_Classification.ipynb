{
 "cells": [
  {
   "cell_type": "markdown",
   "metadata": {
    "_cell_guid": "de7bb7cb-169e-466d-a23c-ba1a119ea3e6",
    "_uuid": "b1fe4102683a3d80dd9ee0271ec3ea24ddd8add9"
   },
   "source": [
    "<center>\n",
    "<h1>Mining the Bible verses</h1>\n",
    "<h2>A practitioner's exploration into what’s possible using text mining on religious corpora.</h2>\n",
    "<h3>Arian Pasquali</h3>\n",
    "<h4>heavily based on J. Monteiro's work (https://github.com/jmmonteiro) </h4>\n",
    "<h3>Porto, Novembro 2018</h3>\n",
    "</center>\n",
    "\n",
    "The bible verses corpora is a well structure dataset that offers interesting opportunities to test different NLP methods. This notebook is an attempt to explore some fun topics. I hope to apply the same techniques using other religious corpora in the future."
   ]
  },
  {
   "cell_type": "markdown",
   "metadata": {
    "_cell_guid": "748e926c-dab9-4bfc-8fac-efa32757d9f5",
    "_uuid": "53bdc027fceb281d001cf05c56e43bc09da1480f"
   },
   "source": [
    "## Load dependecies\n"
   ]
  },
  {
   "cell_type": "code",
   "execution_count": null,
   "metadata": {},
   "outputs": [],
   "source": [
    "!pip install numpy\n",
    "!pip install pandas\n",
    "!pip install matplotlib\n",
    "!pip install seaborn\n",
    "!pip install sklearn\n",
    "!pip install gensim\n",
    "!pip install nltk"
   ]
  },
  {
   "cell_type": "markdown",
   "metadata": {},
   "source": [
    "## Load packages\n",
    "The first step is to load some of the packages necessary to run the analysis. The last line specifies the size of the plots that will be displayed."
   ]
  },
  {
   "cell_type": "code",
   "execution_count": 76,
   "metadata": {
    "_cell_guid": "d1213ded-b272-49a4-b276-f9bbd413b37d",
    "_execution_state": "idle",
    "_uuid": "19641be327980260b95cfdc0d8ac77b9aee28fa6"
   },
   "outputs": [],
   "source": [
    "import numpy as np\n",
    "import pandas as pd\n",
    "import seaborn as sns\n",
    "import matplotlib\n",
    "import matplotlib.pyplot as plt\n",
    "%matplotlib inline\n",
    "\n",
    "sns.set_style('whitegrid')\n",
    "plt.rcParams['figure.figsize'] = (15,10)"
   ]
  },
  {
   "cell_type": "markdown",
   "metadata": {
    "_cell_guid": "86005f09-c5d7-46a6-a4be-de9f90d53055",
    "_uuid": "03a62b7746691f61d8f6a36341fafd34c0c4a4d1"
   },
   "source": [
    "## Load data"
   ]
  },
  {
   "cell_type": "markdown",
   "metadata": {
    "_cell_guid": "68941c55-8a62-43b3-8215-1ad75ca6a1a0",
    "_uuid": "60ce421db5d7ac5b15c412fb3fa572188bfc01ff"
   },
   "source": [
    "Let's start by loading the data and checking how many samples we have."
   ]
  },
  {
   "cell_type": "code",
   "execution_count": 2,
   "metadata": {
    "_cell_guid": "e7ae81ee-316e-4cc6-a425-0f091faee2c6",
    "_execution_state": "idle",
    "_uuid": "e2a4c9b43e76468b4c09af333cafa515ca84a1b9"
   },
   "outputs": [
    {
     "data": {
      "text/plain": [
       "(31102, 5)"
      ]
     },
     "execution_count": 2,
     "metadata": {},
     "output_type": "execute_result"
    }
   ],
   "source": [
    "bible = pd.read_csv('./corpus/bible_data_set.csv')\n",
    "bible.shape"
   ]
  },
  {
   "cell_type": "markdown",
   "metadata": {
    "_cell_guid": "96ad4d31-2e2c-4e07-ad0b-2a930cb650a5",
    "_uuid": "fbbfdfdda2580e60fd38286e41f65fcc004e0f29"
   },
   "source": [
    "Next, we'll encode some extra information about the verses, namely, which testament and book they belong to. A quick google search tells us which books are contained in the KJV."
   ]
  },
  {
   "cell_type": "code",
   "execution_count": 3,
   "metadata": {
    "_cell_guid": "48187a70-e883-4191-aad1-1c560f37fd3a",
    "_execution_state": "idle",
    "_uuid": "22742772c0380f44ca6cc0225257e3376f53ecc3"
   },
   "outputs": [
    {
     "data": {
      "text/html": [
       "<div>\n",
       "<style scoped>\n",
       "    .dataframe tbody tr th:only-of-type {\n",
       "        vertical-align: middle;\n",
       "    }\n",
       "\n",
       "    .dataframe tbody tr th {\n",
       "        vertical-align: top;\n",
       "    }\n",
       "\n",
       "    .dataframe thead th {\n",
       "        text-align: right;\n",
       "    }\n",
       "</style>\n",
       "<table border=\"1\" class=\"dataframe\">\n",
       "  <thead>\n",
       "    <tr style=\"text-align: right;\">\n",
       "      <th></th>\n",
       "      <th>citation</th>\n",
       "      <th>book</th>\n",
       "      <th>chapter</th>\n",
       "      <th>verse</th>\n",
       "      <th>text</th>\n",
       "      <th>book_code</th>\n",
       "      <th>testament</th>\n",
       "      <th>testament_code</th>\n",
       "    </tr>\n",
       "  </thead>\n",
       "  <tbody>\n",
       "    <tr>\n",
       "      <th>0</th>\n",
       "      <td>Genesis 1:1</td>\n",
       "      <td>Genesis</td>\n",
       "      <td>1</td>\n",
       "      <td>1</td>\n",
       "      <td>In the beginning God created the heaven and th...</td>\n",
       "      <td>1</td>\n",
       "      <td>Old Testament</td>\n",
       "      <td>0</td>\n",
       "    </tr>\n",
       "    <tr>\n",
       "      <th>1</th>\n",
       "      <td>Genesis 1:2</td>\n",
       "      <td>Genesis</td>\n",
       "      <td>1</td>\n",
       "      <td>2</td>\n",
       "      <td>And the earth was without form, and void; and ...</td>\n",
       "      <td>1</td>\n",
       "      <td>Old Testament</td>\n",
       "      <td>0</td>\n",
       "    </tr>\n",
       "    <tr>\n",
       "      <th>2</th>\n",
       "      <td>Genesis 1:3</td>\n",
       "      <td>Genesis</td>\n",
       "      <td>1</td>\n",
       "      <td>3</td>\n",
       "      <td>And God said, Let there be light: and there wa...</td>\n",
       "      <td>1</td>\n",
       "      <td>Old Testament</td>\n",
       "      <td>0</td>\n",
       "    </tr>\n",
       "    <tr>\n",
       "      <th>3</th>\n",
       "      <td>Genesis 1:4</td>\n",
       "      <td>Genesis</td>\n",
       "      <td>1</td>\n",
       "      <td>4</td>\n",
       "      <td>And God saw the light, that it was good: and G...</td>\n",
       "      <td>1</td>\n",
       "      <td>Old Testament</td>\n",
       "      <td>0</td>\n",
       "    </tr>\n",
       "    <tr>\n",
       "      <th>4</th>\n",
       "      <td>Genesis 1:5</td>\n",
       "      <td>Genesis</td>\n",
       "      <td>1</td>\n",
       "      <td>5</td>\n",
       "      <td>And God called the light Day, and the darkness...</td>\n",
       "      <td>1</td>\n",
       "      <td>Old Testament</td>\n",
       "      <td>0</td>\n",
       "    </tr>\n",
       "  </tbody>\n",
       "</table>\n",
       "</div>"
      ],
      "text/plain": [
       "      citation     book  chapter  verse  \\\n",
       "0  Genesis 1:1  Genesis        1      1   \n",
       "1  Genesis 1:2  Genesis        1      2   \n",
       "2  Genesis 1:3  Genesis        1      3   \n",
       "3  Genesis 1:4  Genesis        1      4   \n",
       "4  Genesis 1:5  Genesis        1      5   \n",
       "\n",
       "                                                text book_code      testament  \\\n",
       "0  In the beginning God created the heaven and th...         1  Old Testament   \n",
       "1  And the earth was without form, and void; and ...         1  Old Testament   \n",
       "2  And God said, Let there be light: and there wa...         1  Old Testament   \n",
       "3  And God saw the light, that it was good: and G...         1  Old Testament   \n",
       "4  And God called the light Day, and the darkness...         1  Old Testament   \n",
       "\n",
       "  testament_code  \n",
       "0              0  \n",
       "1              0  \n",
       "2              0  \n",
       "3              0  \n",
       "4              0  "
      ]
     },
     "execution_count": 3,
     "metadata": {},
     "output_type": "execute_result"
    }
   ],
   "source": [
    "# Books in the Old Testament (OT) and New Testament (NT)\n",
    "OT_books = ['Genesis', 'Exodus', 'Leviticus', 'Numbers', 'Deuteronomy', 'Joshua', 'Judges',\n",
    "            'Ruth', '1 Samuel', '2 Samuel', '1 Kings', '2 Kings', '1 Chronicles', '2 Chronicles',\n",
    "            'Ezra', 'Nehemiah', 'Esther', 'Job', 'Psalms', 'Proverbs', 'Ecclesiastes',\n",
    "            'Song of Solomon', 'Isaiah', 'Jeremiah', 'Lamentations', 'Ezekiel', 'Daniel',\n",
    "            'Hosea', 'Joel', 'Amos', 'Obadiah', 'Jonah', 'Micah', 'Nahum', 'Habakkuk',\n",
    "            'Zephaniah', 'Haggai',    'Zechariah',    'Malachi']\n",
    "\n",
    "NT_books = ['Matthew', 'Mark', 'Luke', 'John', 'Acts', 'Romans', '1 Corinthians',\n",
    "            '2 Corinthians', 'Galatians', 'Ephesians', 'Philippians', 'Colossians',\n",
    "            '1 Thessalonians', '2 Thessalonians', '1 Timothy', '2 Timothy', 'Titus', 'Philemon',\n",
    "            'Hebrews', 'James', '1 Peter', '2 Peter', '1 John', '2 John', '3 John', 'Jude',\n",
    "            'Revelation']\n",
    "\n",
    "# New variables with the books and testaments as categories\n",
    "books = pd.unique(bible.book)\n",
    "book_codes = np.arange(1,len(books)+1)\n",
    "book_codes = np.concatenate([books.reshape((-1,1)),book_codes.reshape((-1,1))], axis=1)\n",
    "\n",
    "bible['book_code'] = np.nan\n",
    "bible['testament'] = ''\n",
    "bible['testament_code'] = np.nan\n",
    "for i in range(0,bible.shape[0]):\n",
    "    ind = bible.at[i,'book'] == book_codes[:,0]\n",
    "    bible.at[i,'book_code'] = book_codes[ind,1]\n",
    "    \n",
    "    if bible.at[i,'book'] in OT_books:\n",
    "        bible.at[i,'testament'] = 'Old Testament'\n",
    "        bible.at[i,'testament_code'] = 0\n",
    "    elif bible.at[i,'book'] in NT_books:\n",
    "        bible.at[i,'testament'] = 'New Testament'\n",
    "        bible.at[i,'testament_code'] = 1\n",
    "    else:\n",
    "        raise Exception('Book not found: ' + bible.at[i,'book'])\n",
    "\n",
    "bible.book_code = bible.book_code.astype(int)\n",
    "bible.book_code = pd.Categorical(bible.book_code)\n",
    "bible.testament_code = bible.testament_code.astype(int)\n",
    "bible.testament_code = pd.Categorical(bible.testament_code)\n",
    "    \n",
    "bible.head()"
   ]
  },
  {
   "cell_type": "markdown",
   "metadata": {
    "_cell_guid": "04cea696-3800-4b5f-b6b1-19e87018ce5f",
    "_uuid": "963f3a2f9513ef2f142a4a4da643fff41ccf3765"
   },
   "source": [
    "Before starting the analysis, I'll permute the data. This will break the order of the verses, preventing cases in which a structured chunk of the data (e.g. a chapter) is contained completely on the train set or on the test set. In other words, we want to have the chapters spread around the cross-validation folds.\n",
    "\n",
    "In order to avoid problems with the cross-validation later on, I'll reset the index as well."
   ]
  },
  {
   "cell_type": "code",
   "execution_count": 4,
   "metadata": {
    "_cell_guid": "ae6eb107-df4c-4221-9684-8a7d103d51d5",
    "_execution_state": "idle",
    "_uuid": "b408973960bf2430072add796e4151253ea2f17d"
   },
   "outputs": [
    {
     "data": {
      "text/html": [
       "<div>\n",
       "<style scoped>\n",
       "    .dataframe tbody tr th:only-of-type {\n",
       "        vertical-align: middle;\n",
       "    }\n",
       "\n",
       "    .dataframe tbody tr th {\n",
       "        vertical-align: top;\n",
       "    }\n",
       "\n",
       "    .dataframe thead th {\n",
       "        text-align: right;\n",
       "    }\n",
       "</style>\n",
       "<table border=\"1\" class=\"dataframe\">\n",
       "  <thead>\n",
       "    <tr style=\"text-align: right;\">\n",
       "      <th></th>\n",
       "      <th>citation</th>\n",
       "      <th>book</th>\n",
       "      <th>chapter</th>\n",
       "      <th>verse</th>\n",
       "      <th>text</th>\n",
       "      <th>book_code</th>\n",
       "      <th>testament</th>\n",
       "      <th>testament_code</th>\n",
       "    </tr>\n",
       "  </thead>\n",
       "  <tbody>\n",
       "    <tr>\n",
       "      <th>0</th>\n",
       "      <td>Psalms 12:2</td>\n",
       "      <td>Psalms</td>\n",
       "      <td>12</td>\n",
       "      <td>2</td>\n",
       "      <td>They speak vanity every one with his neighbour...</td>\n",
       "      <td>19</td>\n",
       "      <td>Old Testament</td>\n",
       "      <td>0</td>\n",
       "    </tr>\n",
       "    <tr>\n",
       "      <th>1</th>\n",
       "      <td>Ruth 2:7</td>\n",
       "      <td>Ruth</td>\n",
       "      <td>2</td>\n",
       "      <td>7</td>\n",
       "      <td>And she said, I pray you, let me glean and gat...</td>\n",
       "      <td>8</td>\n",
       "      <td>Old Testament</td>\n",
       "      <td>0</td>\n",
       "    </tr>\n",
       "    <tr>\n",
       "      <th>2</th>\n",
       "      <td>Ezekiel 33:10</td>\n",
       "      <td>Ezekiel</td>\n",
       "      <td>33</td>\n",
       "      <td>10</td>\n",
       "      <td>Therefore, O thou son of man, speak unto the h...</td>\n",
       "      <td>26</td>\n",
       "      <td>Old Testament</td>\n",
       "      <td>0</td>\n",
       "    </tr>\n",
       "    <tr>\n",
       "      <th>3</th>\n",
       "      <td>Psalms 139:1</td>\n",
       "      <td>Psalms</td>\n",
       "      <td>139</td>\n",
       "      <td>1</td>\n",
       "      <td>O lord, thou hast searched me, and known me. \\n</td>\n",
       "      <td>19</td>\n",
       "      <td>Old Testament</td>\n",
       "      <td>0</td>\n",
       "    </tr>\n",
       "    <tr>\n",
       "      <th>4</th>\n",
       "      <td>Judges 9:34</td>\n",
       "      <td>Judges</td>\n",
       "      <td>9</td>\n",
       "      <td>34</td>\n",
       "      <td>And Abimelech rose up, and all the people that...</td>\n",
       "      <td>7</td>\n",
       "      <td>Old Testament</td>\n",
       "      <td>0</td>\n",
       "    </tr>\n",
       "  </tbody>\n",
       "</table>\n",
       "</div>"
      ],
      "text/plain": [
       "        citation     book  chapter  verse  \\\n",
       "0    Psalms 12:2   Psalms       12      2   \n",
       "1       Ruth 2:7     Ruth        2      7   \n",
       "2  Ezekiel 33:10  Ezekiel       33     10   \n",
       "3   Psalms 139:1   Psalms      139      1   \n",
       "4    Judges 9:34   Judges        9     34   \n",
       "\n",
       "                                                text book_code      testament  \\\n",
       "0  They speak vanity every one with his neighbour...        19  Old Testament   \n",
       "1  And she said, I pray you, let me glean and gat...         8  Old Testament   \n",
       "2  Therefore, O thou son of man, speak unto the h...        26  Old Testament   \n",
       "3    O lord, thou hast searched me, and known me. \\n        19  Old Testament   \n",
       "4  And Abimelech rose up, and all the people that...         7  Old Testament   \n",
       "\n",
       "  testament_code  \n",
       "0              0  \n",
       "1              0  \n",
       "2              0  \n",
       "3              0  \n",
       "4              0  "
      ]
     },
     "execution_count": 4,
     "metadata": {},
     "output_type": "execute_result"
    }
   ],
   "source": [
    "bible = bible.sample(frac=1, random_state=7).reset_index(drop=True)\n",
    "bible.head()"
   ]
  },
  {
   "cell_type": "markdown",
   "metadata": {
    "_cell_guid": "7ccf256b-cf95-4001-9323-d513fb3f11dd",
    "_uuid": "659dea9a28e749ae62d50a47f869bd05bf45d053"
   },
   "source": [
    "Looking good so far. Time for some machine learning."
   ]
  },
  {
   "cell_type": "markdown",
   "metadata": {},
   "source": [
    "## Book classification\n",
    "\n",
    "### Defining SVM model setup and weighted vector space model\n",
    "\n",
    "\n",
    "Since it was easy to classify the verses based on the testament, let's go one step further and see if we can predict the book from which they came from.\n",
    "\n",
    "The procedure is very similar, but now the categories in the labels $\\boldsymbol{y}$ are different, and the code to compute the class accuracies is more complex. We'll also introduce a new visualisation tool: the [confusion matrix](https://en.wikipedia.org/wiki/Confusion_matrix)."
   ]
  },
  {
   "cell_type": "code",
   "execution_count": 32,
   "metadata": {},
   "outputs": [
    {
     "data": {
      "text/plain": [
       "array(['Psalms', 'Ruth', 'Ezekiel', 'Judges', 'Numbers', '1 Kings',\n",
       "       'Isaiah', 'Acts', 'Matthew', 'Song of Solomon', 'Mark', 'Malachi',\n",
       "       'Exodus', 'Jeremiah', 'Joshua', 'Luke', '2 Samuel', 'Deuteronomy',\n",
       "       'Job', 'Galatians', 'Genesis', 'Joel', '1 Corinthians', 'Titus',\n",
       "       'John', '2 Chronicles', '2 Timothy', 'Proverbs', 'Zechariah',\n",
       "       '1 Chronicles', 'Hebrews', '1 Samuel', 'Hosea', '2 Kings', 'Ezra',\n",
       "       'Revelation', 'Nehemiah', 'Leviticus', 'Ecclesiastes', 'Amos',\n",
       "       'Ephesians', 'Lamentations', '1 Thessalonians', 'James', 'Esther',\n",
       "       'Habakkuk', 'Romans', 'Daniel', 'Philippians', '2 Corinthians',\n",
       "       '1 Timothy', 'Nahum', '2 John', 'Jonah', '1 Peter', 'Obadiah',\n",
       "       'Micah', '1 John', 'Haggai', 'Zephaniah', '2 Peter', 'Colossians',\n",
       "       'Philemon', '2 Thessalonians', 'Jude', '3 John'], dtype=object)"
      ]
     },
     "execution_count": 32,
     "metadata": {},
     "output_type": "execute_result"
    }
   ],
   "source": [
    "bible[\"book\"].unique()"
   ]
  },
  {
   "cell_type": "code",
   "execution_count": 91,
   "metadata": {},
   "outputs": [
    {
     "data": {
      "text/html": [
       "<div>\n",
       "<style scoped>\n",
       "    .dataframe tbody tr th:only-of-type {\n",
       "        vertical-align: middle;\n",
       "    }\n",
       "\n",
       "    .dataframe tbody tr th {\n",
       "        vertical-align: top;\n",
       "    }\n",
       "\n",
       "    .dataframe thead th {\n",
       "        text-align: right;\n",
       "    }\n",
       "</style>\n",
       "<table border=\"1\" class=\"dataframe\">\n",
       "  <thead>\n",
       "    <tr style=\"text-align: right;\">\n",
       "      <th></th>\n",
       "      <th>citation</th>\n",
       "      <th>book</th>\n",
       "      <th>chapter</th>\n",
       "      <th>verse</th>\n",
       "      <th>text</th>\n",
       "      <th>book_code</th>\n",
       "      <th>testament</th>\n",
       "      <th>testament_code</th>\n",
       "    </tr>\n",
       "  </thead>\n",
       "  <tbody>\n",
       "    <tr>\n",
       "      <th>10</th>\n",
       "      <td>Matthew 13:30</td>\n",
       "      <td>Matthew</td>\n",
       "      <td>13</td>\n",
       "      <td>30</td>\n",
       "      <td>Let both grow together until the harvest: and ...</td>\n",
       "      <td>40</td>\n",
       "      <td>New Testament</td>\n",
       "      <td>1</td>\n",
       "    </tr>\n",
       "    <tr>\n",
       "      <th>12</th>\n",
       "      <td>Mark 10:7</td>\n",
       "      <td>Mark</td>\n",
       "      <td>10</td>\n",
       "      <td>7</td>\n",
       "      <td>For this cause shall a man leave his father an...</td>\n",
       "      <td>41</td>\n",
       "      <td>New Testament</td>\n",
       "      <td>1</td>\n",
       "    </tr>\n",
       "    <tr>\n",
       "      <th>14</th>\n",
       "      <td>Exodus 34:16</td>\n",
       "      <td>Exodus</td>\n",
       "      <td>34</td>\n",
       "      <td>16</td>\n",
       "      <td>And thou take of their daughters unto thy sons...</td>\n",
       "      <td>2</td>\n",
       "      <td>Old Testament</td>\n",
       "      <td>0</td>\n",
       "    </tr>\n",
       "    <tr>\n",
       "      <th>28</th>\n",
       "      <td>Genesis 24:18</td>\n",
       "      <td>Genesis</td>\n",
       "      <td>24</td>\n",
       "      <td>18</td>\n",
       "      <td>And she said, Drink, my lord: and she hasted, ...</td>\n",
       "      <td>1</td>\n",
       "      <td>Old Testament</td>\n",
       "      <td>0</td>\n",
       "    </tr>\n",
       "    <tr>\n",
       "      <th>36</th>\n",
       "      <td>Matthew 26:14</td>\n",
       "      <td>Matthew</td>\n",
       "      <td>26</td>\n",
       "      <td>14</td>\n",
       "      <td>Then one of the twelve, called Judas Iscariot,...</td>\n",
       "      <td>40</td>\n",
       "      <td>New Testament</td>\n",
       "      <td>1</td>\n",
       "    </tr>\n",
       "  </tbody>\n",
       "</table>\n",
       "</div>"
      ],
      "text/plain": [
       "         citation     book  chapter  verse  \\\n",
       "10  Matthew 13:30  Matthew       13     30   \n",
       "12      Mark 10:7     Mark       10      7   \n",
       "14   Exodus 34:16   Exodus       34     16   \n",
       "28  Genesis 24:18  Genesis       24     18   \n",
       "36  Matthew 26:14  Matthew       26     14   \n",
       "\n",
       "                                                 text book_code  \\\n",
       "10  Let both grow together until the harvest: and ...        40   \n",
       "12  For this cause shall a man leave his father an...        41   \n",
       "14  And thou take of their daughters unto thy sons...         2   \n",
       "28  And she said, Drink, my lord: and she hasted, ...         1   \n",
       "36  Then one of the twelve, called Judas Iscariot,...        40   \n",
       "\n",
       "        testament testament_code  \n",
       "10  New Testament              1  \n",
       "12  New Testament              1  \n",
       "14  Old Testament              0  \n",
       "28  Old Testament              0  \n",
       "36  New Testament              1  "
      ]
     },
     "execution_count": 91,
     "metadata": {},
     "output_type": "execute_result"
    }
   ],
   "source": [
    "interesting_books = ['Genesis',\n",
    "                    'Exodus',\n",
    "                    'Proverbs',\n",
    "                    'Revelation',\n",
    "                    'Matthew', \n",
    "                    'Mark',\n",
    "                    'John',\n",
    "                    'James',\n",
    "                    'Daniel',\n",
    "                    'Jude',]\n",
    "\n",
    "#filter only books I'm interested in\n",
    "interesting_bible = bible[bible['book'].isin(interesting_books)]\n",
    "interesting_bible.head()"
   ]
  },
  {
   "cell_type": "code",
   "execution_count": 92,
   "metadata": {},
   "outputs": [],
   "source": [
    "from sklearn.metrics import accuracy_score\n",
    "\n",
    "\n",
    "\n",
    "from sklearn.feature_extraction.text import CountVectorizer\n",
    "from sklearn.feature_extraction.text import TfidfVectorizer\n",
    "\n",
    "# using count vectorized\n",
    "vect = CountVectorizer(ngram_range=(1,3),\n",
    "                        token_pattern='(?u)(?:\\\\b|(?<=_))[^\\W_][^\\W_-]+(?:\\\\b|(?=[_-]))')\n",
    "\n",
    "# using TF.IDF\n",
    "#vect = TfidfVectorizer(\n",
    "#    sublinear_tf=True,\n",
    "#    ngram_range=(1,3),\n",
    "#    token_pattern='(?u)(?:\\\\b|(?<=_))[^\\W_][^\\W_-]+(?:\\\\b|(?=[_-]))'\n",
    "#)"
   ]
  },
  {
   "cell_type": "code",
   "execution_count": 93,
   "metadata": {},
   "outputs": [],
   "source": [
    "from sklearn.metrics import confusion_matrix\n",
    "from sklearn.model_selection import StratifiedKFold\n",
    "from sklearn.multiclass import OneVsRestClassifier\n",
    "from sklearn.svm import LinearSVC\n",
    "\n",
    "machine = LinearSVC(class_weight='balanced', loss='squared_hinge')\n",
    "clf = OneVsRestClassifier(machine)\n",
    "\n",
    "X = interesting_bible.text\n",
    "y = np.asarray(interesting_bible.book)\n",
    "\n",
    "acc = []\n",
    "class_acc = []\n",
    "conf_mat = np.zeros((len(np.unique(y)),len(np.unique(y))))"
   ]
  },
  {
   "cell_type": "code",
   "execution_count": 94,
   "metadata": {},
   "outputs": [
    {
     "data": {
      "text/plain": [
       "10    Let both grow together until the harvest: and ...\n",
       "12    For this cause shall a man leave his father an...\n",
       "14    And thou take of their daughters unto thy sons...\n",
       "28    And she said, Drink, my lord: and she hasted, ...\n",
       "36    Then one of the twelve, called Judas Iscariot,...\n",
       "Name: text, dtype: object"
      ]
     },
     "execution_count": 94,
     "metadata": {},
     "output_type": "execute_result"
    }
   ],
   "source": [
    "X.head()"
   ]
  },
  {
   "cell_type": "code",
   "execution_count": 103,
   "metadata": {},
   "outputs": [],
   "source": [
    "import warnings; warnings.simplefilter('ignore')"
   ]
  },
  {
   "cell_type": "code",
   "execution_count": 105,
   "metadata": {
    "scrolled": true
   },
   "outputs": [
    {
     "name": "stdout",
     "output_type": "stream",
     "text": [
      "training fold...\n",
      "training fold...\n",
      "training fold...\n",
      "training fold...\n",
      "training fold...\n",
      "training fold...\n",
      "training fold...\n",
      "training fold...\n",
      "training fold...\n",
      "training fold...\n"
     ]
    }
   ],
   "source": [
    "n_cv_folds = 10\n",
    "\n",
    "# Use the stratified KFold strategy, in order to preserve the proportion of each class in all the folds\n",
    "from sklearn.model_selection import StratifiedKFold\n",
    "cv = StratifiedKFold(n_splits=n_cv_folds)\n",
    "\n",
    "acc = []\n",
    "class_acc = []\n",
    "\n",
    "#folds = []\n",
    "for train_index, test_index in cv.split(np.zeros(len(y)), y):\n",
    "    print(\"training fold...\")\n",
    "    X_train, X_test = X.iloc[train_index], X.iloc[test_index]\n",
    "    y_train, y_test = y[train_index], y[test_index]\n",
    "    \n",
    "    X_train = vect.fit_transform(X_train)\n",
    "    X_test = vect.transform(X_test)\n",
    "    \n",
    "    clf.fit(X_train,y_train)\n",
    "    y_pred = clf.predict(X_test)\n",
    "    \n",
    "    # General accuracy\n",
    "    acc.append(accuracy_score(y_test,y_pred))\n",
    "    \n",
    "    # Class accuracy\n",
    "    fold_class_acc = []\n",
    "    for c in np.unique(y):\n",
    "        ind = y_test == c\n",
    "        dummy = np.sum(y_test[ind] == y_pred[ind])\n",
    "        fold_class_acc.append(dummy/np.sum(ind))\n",
    "    class_acc.append(fold_class_acc)    \n",
    "    \n",
    "    # Accuracy\n",
    "    acc.append(accuracy_score(y_test,y_pred))\n",
    "    \n",
    "    # Confusion matrix\n",
    "    conf_mat = conf_mat + confusion_matrix(y_test,y_pred)"
   ]
  },
  {
   "cell_type": "markdown",
   "metadata": {
    "_cell_guid": "e91ef076-a7ab-495b-b54c-b69f5e1a6282",
    "_uuid": "998ed3215e22cb3d924303a9d4b93f9fa44517f6"
   },
   "source": [
    "Let's check the accuracies."
   ]
  },
  {
   "cell_type": "code",
   "execution_count": 96,
   "metadata": {
    "_cell_guid": "a59dfffe-8faa-4fbf-b23f-a01e9757454f",
    "_execution_state": "idle",
    "_uuid": "c71553e2477ea37d3db2561bc11bb1dae6d1730d"
   },
   "outputs": [
    {
     "name": "stdout",
     "output_type": "stream",
     "text": [
      "Accuracy: 0.7555277102231217\n",
      "Balanced Accuracy: 0.6285094861811176\n"
     ]
    }
   ],
   "source": [
    "print('Accuracy: ' + str(np.mean(acc)))\n",
    "print('Balanced Accuracy: ' + str(np.mean(class_acc[:])))"
   ]
  },
  {
   "cell_type": "markdown",
   "metadata": {
    "_cell_guid": "e19e34c2-3b4f-401f-b6e5-882ad5c768e6",
    "_uuid": "88a23922c9b078e337fe5e375d6e6413d68ceaaa"
   },
   "source": [
    "They're around 0.7 (70%), but don't forget that this is no binary classification task. This sample has about 10 selected books, so if the model was predicting the labels randomly, the accuracy would be around 1/10 (assuming equally sized classes), which is approximately 0.10 (10%).\n",
    "\n",
    "Before taking a look at the confusion matrix. We should bear in mind that each book has a very different number of verses. In order to visualise the results better, a normalised version of the confusion matrix is created below, where the entries in each row (true labels) are divided by the number of samples in the corresponding class (i.e. row)."
   ]
  },
  {
   "cell_type": "code",
   "execution_count": 97,
   "metadata": {
    "_cell_guid": "465ceab1-9897-4155-9a22-b0fa1819af7c",
    "_execution_state": "idle",
    "_uuid": "8435614ef825ef7ad007da78dc63f364ed6e1418"
   },
   "outputs": [
    {
     "data": {
      "image/png": "[encoded data removed]",
      "text/plain": [
       "<Figure size 1080x720 with 2 Axes>"
      ]
     },
     "metadata": {},
     "output_type": "display_data"
    },
    {
     "data": {
      "text/plain": [
       "<Figure size 1080x720 with 0 Axes>"
      ]
     },
     "metadata": {},
     "output_type": "display_data"
    }
   ],
   "source": [
    "conf_mat_norm = np.transpose(np.transpose(conf_mat)/np.sum(conf_mat,axis=1))\n",
    "\n",
    "ax = sns.heatmap(conf_mat_norm,cmap=\"Blues\",\n",
    "            xticklabels=interesting_books, yticklabels=interesting_books,\n",
    "            linewidths=.5, cbar_kws={'label': 'Fraction of samples in row'})\n",
    "ax.set(xlabel = 'Predicted Label', ylabel='True label')\n",
    "\n",
    "plt.figure(figsize=(15,10))\n",
    "plt.show()"
   ]
  },
  {
   "cell_type": "markdown",
   "metadata": {
    "_cell_guid": "e2b9a23e-5fd0-4341-8862-5f04179cac1d",
    "_uuid": "f06ef934869da8a75aed04d4bb2ae57c223a3ce7"
   },
   "source": [
    "As we can see, the accuracy of each class differs quite a bit, which means that some verses are easier to classify than others. Since we are using a bag-of-words model, this suggests that the classes with a higher accuracy contain verses with words which are quite different from the ones in the rest of the Bible. For example, the Genesis is easier to classify than the books at the end of the OT.\n",
    "\n",
    "There seems to be a slightly higher similarity between books in the NT, specially between the first NT books, e.g. from Matthew to Corinthians. In fact, we can faintly see the \"border\" between the OT and the NT (between Malachi and Matthew). We can also sort the books by their class accuracies, which will give us an idea which books are more \"unique\", i.e. easier to classify."
   ]
  },
  {
   "cell_type": "code",
   "execution_count": 107,
   "metadata": {},
   "outputs": [
    {
     "data": {
      "text/plain": [
       "array(['Genesis', 'Exodus', 'Leviticus', 'Numbers', 'Deuteronomy',\n",
       "       'Joshua', 'Judges', 'Ruth', '1 Samuel', '2 Samuel', '1 Kings',\n",
       "       '2 Kings', '1 Chronicles', '2 Chronicles', 'Ezra', 'Nehemiah',\n",
       "       'Esther', 'Job', 'Psalms', 'Proverbs', 'Ecclesiastes',\n",
       "       'Song of Solomon', 'Isaiah', 'Jeremiah', 'Lamentations', 'Ezekiel',\n",
       "       'Daniel', 'Hosea', 'Joel', 'Amos', 'Obadiah', 'Jonah', 'Micah',\n",
       "       'Nahum', 'Habakkuk', 'Zephaniah', 'Haggai', 'Zechariah', 'Malachi',\n",
       "       'Matthew', 'Mark', 'Luke', 'John', 'Acts', 'Romans',\n",
       "       '1 Corinthians', '2 Corinthians', 'Galatians', 'Ephesians',\n",
       "       'Philippians', 'Colossians', '1 Thessalonians', '2 Thessalonians',\n",
       "       '1 Timothy', '2 Timothy', 'Titus', 'Philemon', 'Hebrews', 'James',\n",
       "       '1 Peter', '2 Peter', '1 John', '2 John', '3 John', 'Jude',\n",
       "       'Revelation'], dtype=object)"
      ]
     },
     "execution_count": 107,
     "metadata": {},
     "output_type": "execute_result"
    }
   ],
   "source": [
    "#all books\n",
    "books"
   ]
  },
  {
   "cell_type": "code",
   "execution_count": 99,
   "metadata": {},
   "outputs": [
    {
     "data": {
      "text/plain": [
       "array(['Genesis', 'Exodus', 'Proverbs', 'Revelation', 'Matthew', 'Mark',\n",
       "       'John', 'James', 'Daniel', 'Jude'], dtype='<U10')"
      ]
     },
     "execution_count": 99,
     "metadata": {},
     "output_type": "execute_result"
    }
   ],
   "source": [
    "np.array(interesting_books)"
   ]
  },
  {
   "cell_type": "code",
   "execution_count": 100,
   "metadata": {
    "_cell_guid": "e1f2352d-2d59-47f6-a905-14b36cbd350b",
    "_execution_state": "idle",
    "_uuid": "f444b9849dc17b4b82dcfd6668f59ca9ae65935b"
   },
   "outputs": [
    {
     "data": {
      "image/png": "[encoded data removed]",
      "text/plain": [
       "<Figure size 1080x720 with 1 Axes>"
      ]
     },
     "metadata": {},
     "output_type": "display_data"
    },
    {
     "data": {
      "text/plain": [
       "<Figure size 1080x720 with 0 Axes>"
      ]
     },
     "metadata": {},
     "output_type": "display_data"
    }
   ],
   "source": [
    "class_acc_plot = np.array(class_acc)\n",
    "m = np.mean(class_acc,axis=0)\n",
    "\n",
    "i = np.argsort(m)\n",
    "class_acc_plot = class_acc_plot[:,i]\n",
    "books_plot = np.array(interesting_books)[i]\n",
    "\n",
    "class_acc_plot = pd.DataFrame(class_acc_plot, columns=books_plot)\n",
    "\n",
    "ax = sns.boxplot(data=class_acc_plot)\n",
    "ax.set(xlabel = 'Book', ylabel='Class accuracy')\n",
    "ax.set_xticklabels(ax.get_xticklabels(),rotation=90)\n",
    "\n",
    "plt.figure(figsize=(15,10))\n",
    "plt.show()"
   ]
  },
  {
   "cell_type": "markdown",
   "metadata": {
    "_cell_guid": "dc4d4143-927a-487f-97b5-7cacf28f5e4a",
    "_uuid": "10145c94c9c4a896a5b797c12920d45e12e30f0b"
   },
   "source": [
    "# Conclusion\n",
    "\n",
    "And that's it!\n",
    "\n",
    "We could probably get a higher accuracy by using more [n-grams](https://en.wikipedia.org/wiki/Bag-of-words_model#N-gram_model) instead of just individual words (i.e. unigrams). However, this would also increase the number of features in the dataset. Alternatively, we could use more complex models, which take into account the context of the words. If I get around to implement them, I might revisit this problem."
   ]
  },
  {
   "cell_type": "markdown",
   "metadata": {},
   "source": [
    "**note**\n",
    "\n",
    "This work is inpired in the work of https://github.com/jmmonteiro. "
   ]
  }
 ],
 "metadata": {
  "anaconda-cloud": {},
  "kernelspec": {
   "display_name": "Python 3",
   "language": "python",
   "name": "python3"
  },
  "language_info": {
   "codemirror_mode": {
    "name": "ipython",
    "version": 3
   },
   "file_extension": ".py",
   "mimetype": "text/x-python",
   "name": "python",
   "nbconvert_exporter": "python",
   "pygments_lexer": "ipython3",
   "version": "3.6.6"
  }
 },
 "nbformat": 4,
 "nbformat_minor": 2
}
